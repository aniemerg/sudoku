{
 "cells": [
  {
   "cell_type": "code",
   "execution_count": 16,
   "id": "f9644c26-bc29-480e-8dc0-82865018aac7",
   "metadata": {},
   "outputs": [
    {
     "name": "stdout",
     "output_type": "stream",
     "text": [
      "/Users/allanniemerg/spikes/sudoku\n"
     ]
    },
    {
     "name": "stderr",
     "output_type": "stream",
     "text": [
      "/Users/allanniemerg/.pyenv/versions/3.10.12/lib/python3.10/site-packages/IPython/core/magics/osm.py:393: UserWarning: using bookmarks requires you to install the `pickleshare` library.\n",
      "  bkms = self.shell.db.get('bookmarks', {})\n",
      "/Users/allanniemerg/.pyenv/versions/3.10.12/lib/python3.10/site-packages/IPython/core/magics/osm.py:417: UserWarning: using dhist requires you to install the `pickleshare` library.\n",
      "  self.shell.db['dhist'] = compress_dhist(dhist)[-100:]\n"
     ]
    }
   ],
   "source": [
    "%cd ~/spikes/sudoku\n",
    "from copy import deepcopy\n",
    "import os\n",
    "from getpass import getpass\n",
    "\n",
    "import sudoku.display\n",
    "import sudoku.validation\n",
    "import sudoku.construction\n",
    "from sudoku.display import display_sudoku, display_sudoku_comparison\n",
    "from sudoku.validation import is_proposed_solution_valid, is_single_cell_proposed, analysis_to_puzzle_solution\n",
    "from sudoku.construction import construct_puzzle_solution, make_puzzle, weighted_random_choice\n",
    "\n",
    "from langchain.chat_models import ChatOpenAI\n",
    "from langchain.schema import HumanMessage, AIMessage, SystemMessage"
   ]
  },
  {
   "cell_type": "code",
   "execution_count": 17,
   "id": "2846fae3-3e22-4652-ae66-87f85e4ed9f2",
   "metadata": {},
   "outputs": [
    {
     "name": "stdin",
     "output_type": "stream",
     "text": [
      " ········\n"
     ]
    }
   ],
   "source": [
    "# setting up an OpenAI template on the run\n",
    "OPENAI_API_KEY = getpass()\n",
    "\n",
    "os.environ['OPENAI_API_KEY'] = OPENAI_API_KEY"
   ]
  },
  {
   "cell_type": "markdown",
   "id": "6e568603-257f-4228-b62f-8df7ee789a47",
   "metadata": {},
   "source": [
    "### Create a Puzzle"
   ]
  },
  {
   "cell_type": "code",
   "execution_count": 7,
   "id": "7fb26e68-d5d6-4779-8e65-e32ee21f521f",
   "metadata": {},
   "outputs": [
    {
     "data": {
      "text/plain": [
       "[[1, 0, 0, 0], [0, 4, 0, 0], [0, 3, 1, 0], [2, 0, 4, 0]]"
      ]
     },
     "execution_count": 7,
     "metadata": {},
     "output_type": "execute_result"
    }
   ],
   "source": [
    "#Create puzzle\n",
    "solution = construct_puzzle_solution()\n",
    "puzzle = make_puzzle(solution)\n",
    "puzzle"
   ]
  },
  {
   "cell_type": "code",
   "execution_count": 8,
   "id": "6de306ad-3840-4b57-86f5-cf615e77f10a",
   "metadata": {},
   "outputs": [
    {
     "data": {
      "text/html": [
       "<table cellspacing=\"0\" cellpadding=\"5\" style=\"border-collapse: collapse; border: 2px solid black;\"><tr style=\"background-color: white;\"><td style=\"border: 1px solid gray; \">1</td><td style=\"border: 1px solid gray; \">&nbsp;</td><td style=\"border: 1px solid gray; border-left: 2px solid black;\">&nbsp;</td><td style=\"border: 1px solid gray; \">&nbsp;</td></tr><tr style=\"background-color: white;\"><td style=\"border: 1px solid gray; \">&nbsp;</td><td style=\"border: 1px solid gray; \">4</td><td style=\"border: 1px solid gray; border-left: 2px solid black;\">&nbsp;</td><td style=\"border: 1px solid gray; \">&nbsp;</td></tr><tr style=\"background-color: white;\"><td style=\"border: 1px solid gray; border-top: 2px solid black;\">&nbsp;</td><td style=\"border: 1px solid gray; border-top: 2px solid black;\">3</td><td style=\"border: 1px solid gray; border-left: 2px solid black; border-top: 2px solid black;\">1</td><td style=\"border: 1px solid gray; border-top: 2px solid black;\">&nbsp;</td></tr><tr style=\"background-color: white;\"><td style=\"border: 1px solid gray; \">2</td><td style=\"border: 1px solid gray; \">&nbsp;</td><td style=\"border: 1px solid gray; border-left: 2px solid black;\">4</td><td style=\"border: 1px solid gray; \">&nbsp;</td></tr></table>"
      ],
      "text/plain": [
       "<IPython.core.display.HTML object>"
      ]
     },
     "metadata": {},
     "output_type": "display_data"
    }
   ],
   "source": [
    "display_sudoku(puzzle)"
   ]
  },
  {
   "cell_type": "code",
   "execution_count": 30,
   "id": "d05df896-c68f-4beb-84bf-ec5bbc77cd66",
   "metadata": {},
   "outputs": [],
   "source": [
    "from IPython.display import HTML, display\n",
    "def display_sudoku(grid):\n",
    "    # Table start with overall styling\n",
    "    table_html = '<table cellspacing=\"0\" cellpadding=\"5\" style=\"border-collapse: collapse; border: 2px solid black;\">'\n",
    "    \n",
    "    for i, row in enumerate(grid):\n",
    "        table_html += '<tr style=\"background-color: white;\">'\n",
    "        for j, cell in enumerate(row):\n",
    "            # Determine cell borders\n",
    "            border_styles = []\n",
    "            if j == 2:\n",
    "                border_styles.append(\"border-left: 2px solid black;\")\n",
    "            if i == 2:\n",
    "                border_styles.append(\"border-top: 2px solid black;\")\n",
    "            \n",
    "            # Set cell style including size, alignment, and borders\n",
    "            if not border_styles:  # if there are no thick borders, set the thin ones to gray\n",
    "                cell_style = \"width: 15px; height: 15px; text-align: center; border: 1px solid gray; font-size: 18px;\"\n",
    "            else:\n",
    "                cell_style = \"width: 15px; height: 15px; text-align: center; border: 1px solid gray; font-size: 18px; \" + ' '.join(border_styles)\n",
    "            \n",
    "            table_html += '<td style=\"{}\">{}</td>'.format(cell_style, cell if cell != 0 else '&nbsp;')\n",
    "        table_html += '</tr>'\n",
    "    table_html += '</table>'\n",
    "    display(HTML(table_html))\n"
   ]
  },
  {
   "cell_type": "code",
   "execution_count": 31,
   "id": "fe0a1a04-6747-4c43-bfa2-5b9e61779951",
   "metadata": {},
   "outputs": [
    {
     "data": {
      "text/html": [
       "<table cellspacing=\"0\" cellpadding=\"5\" style=\"border-collapse: collapse; border: 2px solid black;\"><tr style=\"background-color: white;\"><td style=\"width: 15px; height: 15px; text-align: center; border: 1px solid gray; font-size: 18px;\">1</td><td style=\"width: 15px; height: 15px; text-align: center; border: 1px solid gray; font-size: 18px;\">&nbsp;</td><td style=\"width: 15px; height: 15px; text-align: center; border: 1px solid gray; font-size: 18px; border-left: 2px solid black;\">&nbsp;</td><td style=\"width: 15px; height: 15px; text-align: center; border: 1px solid gray; font-size: 18px;\">&nbsp;</td></tr><tr style=\"background-color: white;\"><td style=\"width: 15px; height: 15px; text-align: center; border: 1px solid gray; font-size: 18px;\">&nbsp;</td><td style=\"width: 15px; height: 15px; text-align: center; border: 1px solid gray; font-size: 18px;\">4</td><td style=\"width: 15px; height: 15px; text-align: center; border: 1px solid gray; font-size: 18px; border-left: 2px solid black;\">&nbsp;</td><td style=\"width: 15px; height: 15px; text-align: center; border: 1px solid gray; font-size: 18px;\">&nbsp;</td></tr><tr style=\"background-color: white;\"><td style=\"width: 15px; height: 15px; text-align: center; border: 1px solid gray; font-size: 18px; border-top: 2px solid black;\">&nbsp;</td><td style=\"width: 15px; height: 15px; text-align: center; border: 1px solid gray; font-size: 18px; border-top: 2px solid black;\">3</td><td style=\"width: 15px; height: 15px; text-align: center; border: 1px solid gray; font-size: 18px; border-left: 2px solid black; border-top: 2px solid black;\">1</td><td style=\"width: 15px; height: 15px; text-align: center; border: 1px solid gray; font-size: 18px; border-top: 2px solid black;\">&nbsp;</td></tr><tr style=\"background-color: white;\"><td style=\"width: 15px; height: 15px; text-align: center; border: 1px solid gray; font-size: 18px;\">2</td><td style=\"width: 15px; height: 15px; text-align: center; border: 1px solid gray; font-size: 18px;\">&nbsp;</td><td style=\"width: 15px; height: 15px; text-align: center; border: 1px solid gray; font-size: 18px; border-left: 2px solid black;\">4</td><td style=\"width: 15px; height: 15px; text-align: center; border: 1px solid gray; font-size: 18px;\">&nbsp;</td></tr></table>"
      ],
      "text/plain": [
       "<IPython.core.display.HTML object>"
      ]
     },
     "metadata": {},
     "output_type": "display_data"
    }
   ],
   "source": [
    "display_sudoku(puzzle)"
   ]
  },
  {
   "cell_type": "markdown",
   "id": "ae223226-9ae9-400b-9e71-72ea472c4b9d",
   "metadata": {},
   "source": [
    "### Have GPT-3.5 solve a cell"
   ]
  },
  {
   "cell_type": "code",
   "execution_count": 11,
   "id": "c41a0009-1c40-4315-874c-5ecd4a11f632",
   "metadata": {},
   "outputs": [],
   "source": [
    "brief_analysis = '''We are working on the following sudoku puzzle (each sub-list represents a row):\n",
    "{}\n",
    "\n",
    "You are a sudoku tutor. Create a brief analysis that finds an unsolved cell and solves it. \n",
    "Do not repeat the puzzle (which the student has seen). Just solve one cell that currently has a zero.\n",
    "I suggest you start by examining which rows, columns, or regions have the most cells \n",
    "already solved. You can use this to identify one or more cells that are not currently solved but may be \n",
    "solvable from the available information. Then identify the solution to that cell. \n",
    "\n",
    "Your analysis must then solve ONLY one cell by replacing 0 with the correct number. Please don't include the \n",
    "puzzle in your analysis, we will provide that to the student seperately. \n",
    "\n",
    "Example puzzle: \n",
    "[[0, 0, 0, 0], [0, 0, 3, 2], [1, 0, 0, 0], [2, 0, 1, 4]]\n",
    "\n",
    "Your analysis could look like this:\n",
    "The row with the most solved cells is row 4 with numbers: 1 2 and 4. Because each row must contain the digits 1-4, \n",
    "the unsolved cell must be 3. Therefore row 4, column 2 is the number 3.'''"
   ]
  },
  {
   "cell_type": "code",
   "execution_count": 22,
   "id": "82e98453-4304-4f43-8b68-6ed1e99d6573",
   "metadata": {},
   "outputs": [
    {
     "name": "stdout",
     "output_type": "stream",
     "text": [
      "The column with the most solved cells is column 2 with numbers: 4 and 3. Because each column must contain the digits 1-4, the unsolved cell must be 1. Therefore row 1, column 2 is the number 1.\n"
     ]
    }
   ],
   "source": [
    "model_name = \"gpt-3.5-turbo-1106\"\n",
    "model = ChatOpenAI(model=model_name)\n",
    "prompt = brief_analysis.format(puzzle)\n",
    "message = model.invoke([   \n",
    "    HumanMessage(content=prompt)\n",
    "])\n",
    "print(message.content)"
   ]
  },
  {
   "cell_type": "code",
   "execution_count": null,
   "id": "5e78390e-3ca7-4c66-9fb0-ed8865c423c8",
   "metadata": {},
   "outputs": [],
   "source": []
  },
  {
   "cell_type": "markdown",
   "id": "2e3648fd-d24c-4208-b84a-326c07bbeb7f",
   "metadata": {},
   "source": [
    "### Checking the model's output"
   ]
  },
  {
   "cell_type": "code",
   "execution_count": 23,
   "id": "59084dbe-7222-4a30-bad3-56e3aa1e0c77",
   "metadata": {},
   "outputs": [
    {
     "name": "stderr",
     "output_type": "stream",
     "text": [
      "/Users/allanniemerg/.pyenv/versions/3.10.12/lib/python3.10/site-packages/langchain_core/_api/deprecation.py:115: LangChainDeprecationWarning: The function `predict_messages` was deprecated in LangChain 0.1.7 and will be removed in 0.2.0. Use invoke instead.\n",
      "  warn_deprecated(\n"
     ]
    },
    {
     "data": {
      "text/plain": [
       "[[1, 1, 0, 0], [0, 4, 0, 0], [0, 3, 1, 0], [2, 0, 4, 0]]"
      ]
     },
     "execution_count": 23,
     "metadata": {},
     "output_type": "execute_result"
    }
   ],
   "source": [
    "extraction_model = ChatOpenAI(model=\"gpt-4-0613\")\n",
    "proposed = analysis_to_puzzle_solution(extraction_model, puzzle, message.content)\n",
    "proposed"
   ]
  },
  {
   "cell_type": "code",
   "execution_count": 25,
   "id": "8515b0eb-82be-42d2-8422-03df896ae7e8",
   "metadata": {},
   "outputs": [
    {
     "data": {
      "text/html": [
       "<table cellspacing=\"0\" cellpadding=\"5\" style=\"border-collapse: collapse;  border: 2px solid black;\"><tr style=\"background-color: white;\"><td style=\"border: 1px solid gray; \">1</td><td style=\"border: 1px solid gray; color: red;\">1</td><td style=\"border: 1px solid gray; border-left: 2px solid black;\">&nbsp;</td><td style=\"border: 1px solid gray; \">&nbsp;</td></tr><tr style=\"background-color: white;\"><td style=\"border: 1px solid gray; \">&nbsp;</td><td style=\"border: 1px solid gray; \">4</td><td style=\"border: 1px solid gray; border-left: 2px solid black;\">&nbsp;</td><td style=\"border: 1px solid gray; \">&nbsp;</td></tr><tr style=\"background-color: white;\"><td style=\"border: 1px solid gray; border-top: 2px solid black;\">&nbsp;</td><td style=\"border: 1px solid gray; border-top: 2px solid black;\">3</td><td style=\"border: 1px solid gray; border-left: 2px solid black; border-top: 2px solid black;\">1</td><td style=\"border: 1px solid gray; border-top: 2px solid black;\">&nbsp;</td></tr><tr style=\"background-color: white;\"><td style=\"border: 1px solid gray; \">2</td><td style=\"border: 1px solid gray; \">&nbsp;</td><td style=\"border: 1px solid gray; border-left: 2px solid black;\">4</td><td style=\"border: 1px solid gray; \">&nbsp;</td></tr></table>"
      ],
      "text/plain": [
       "<IPython.core.display.HTML object>"
      ]
     },
     "metadata": {},
     "output_type": "display_data"
    },
    {
     "name": "stdout",
     "output_type": "stream",
     "text": [
      "Incorrect!\n"
     ]
    }
   ],
   "source": [
    "display_sudoku_comparison(proposed, puzzle) \n",
    "if is_proposed_solution_valid(puzzle, solution, proposed):\n",
    "    print(\"Correct!\")\n",
    "else:\n",
    "    print(\"Incorrect!\")"
   ]
  },
  {
   "cell_type": "code",
   "execution_count": 32,
   "id": "0c7eb74d-c994-473f-be9a-837860884ced",
   "metadata": {},
   "outputs": [
    {
     "data": {
      "text/plain": [
       "False"
      ]
     },
     "execution_count": 32,
     "metadata": {},
     "output_type": "execute_result"
    }
   ],
   "source": [
    "is_proposed_solution_valid(puzzle, solution, proposed)"
   ]
  },
  {
   "cell_type": "code",
   "execution_count": null,
   "id": "72308c91-c6af-4b5d-ac2d-45f3faf55263",
   "metadata": {},
   "outputs": [],
   "source": []
  }
 ],
 "metadata": {
  "kernelspec": {
   "display_name": "Python 3 (ipykernel)",
   "language": "python",
   "name": "python3"
  },
  "language_info": {
   "codemirror_mode": {
    "name": "ipython",
    "version": 3
   },
   "file_extension": ".py",
   "mimetype": "text/x-python",
   "name": "python",
   "nbconvert_exporter": "python",
   "pygments_lexer": "ipython3",
   "version": "3.10.12"
  }
 },
 "nbformat": 4,
 "nbformat_minor": 5
}
